{
 "cells": [
  {
   "cell_type": "code",
   "id": "initial_id",
   "metadata": {
    "collapsed": true,
    "ExecuteTime": {
     "end_time": "2024-06-03T16:41:41.658945Z",
     "start_time": "2024-06-03T16:41:41.332886Z"
    }
   },
   "source": [
    "import torch\n",
    "import torch.nn as nn\n",
    "import torch.optim as optim\n",
    "from torch.utils.data import Dataset, DataLoader\n",
    "import torchvision.transforms as transforms\n",
    "from torchvision.datasets import ImageFolder\n",
    "import timm\n",
    "\n",
    "import matplotlib.pyplot as plt\n",
    "import pandas as pd\n",
    "import numpy as np"
   ],
   "outputs": [],
   "execution_count": 19
  },
  {
   "metadata": {
    "ExecuteTime": {
     "end_time": "2024-06-03T16:44:49.531982Z",
     "start_time": "2024-06-03T16:44:49.508742Z"
    }
   },
   "cell_type": "code",
   "source": [
    "device = \"cuda\" if torch.cuda.is_available() else \"cpu\"\n",
    "print(\"Using device: {}\".format(device))"
   ],
   "id": "884e74b6afdc2dc6",
   "outputs": [
    {
     "name": "stdout",
     "output_type": "stream",
     "text": [
      "Using device: cuda\n"
     ]
    }
   ],
   "execution_count": 27
  },
  {
   "metadata": {
    "ExecuteTime": {
     "end_time": "2024-06-03T16:41:41.761618Z",
     "start_time": "2024-06-03T16:41:41.758654Z"
    }
   },
   "cell_type": "code",
   "source": [
    "class CardDataset(Dataset):\n",
    "    def __init__(self, data_dir, transform=None):\n",
    "        self.data = ImageFolder(data_dir, transform=transform)\n",
    "        \n",
    "    def __len__(self):\n",
    "        return len(self.data)\n",
    "    \n",
    "    def __getitem__(self, idx):\n",
    "        return self.data[idx]\n",
    "    \n",
    "    @property\n",
    "    def classes(self):\n",
    "        return self.data.classes"
   ],
   "id": "3134cdf593fb5ef2",
   "outputs": [],
   "execution_count": 20
  },
  {
   "metadata": {
    "ExecuteTime": {
     "end_time": "2024-06-03T16:48:28.142979Z",
     "start_time": "2024-06-03T16:48:28.088699Z"
    }
   },
   "cell_type": "code",
   "source": [
    "train_dir = 'data/train'\n",
    "valid_dir = 'data/valid'\n",
    "test_dir = 'data/test'\n",
    "\n",
    "transform = transforms.Compose([\n",
    "    transforms.Resize((128, 128)), \n",
    "    transforms.ToTensor(),\n",
    "])\n",
    "train_dataset = CardDataset(data_dir=train_dir, transform=transform)\n",
    "valid_dataset = CardDataset(data_dir=valid_dir, transform=transform)\n",
    "test_dataset = CardDataset(data_dir=test_dir, transform=transform)\n",
    "target_to_class = {v: k for k, v in ImageFolder(train_dir).class_to_idx.items()}\n",
    "target_to_class"
   ],
   "id": "a02d7223bf83d4b2",
   "outputs": [
    {
     "data": {
      "text/plain": [
       "{0: 'ace of clubs',\n",
       " 1: 'ace of diamonds',\n",
       " 2: 'ace of hearts',\n",
       " 3: 'ace of spades',\n",
       " 4: 'eight of clubs',\n",
       " 5: 'eight of diamonds',\n",
       " 6: 'eight of hearts',\n",
       " 7: 'eight of spades',\n",
       " 8: 'five of clubs',\n",
       " 9: 'five of diamonds',\n",
       " 10: 'five of hearts',\n",
       " 11: 'five of spades',\n",
       " 12: 'four of clubs',\n",
       " 13: 'four of diamonds',\n",
       " 14: 'four of hearts',\n",
       " 15: 'four of spades',\n",
       " 16: 'jack of clubs',\n",
       " 17: 'jack of diamonds',\n",
       " 18: 'jack of hearts',\n",
       " 19: 'jack of spades',\n",
       " 20: 'joker',\n",
       " 21: 'king of clubs',\n",
       " 22: 'king of diamonds',\n",
       " 23: 'king of hearts',\n",
       " 24: 'king of spades',\n",
       " 25: 'nine of clubs',\n",
       " 26: 'nine of diamonds',\n",
       " 27: 'nine of hearts',\n",
       " 28: 'nine of spades',\n",
       " 29: 'queen of clubs',\n",
       " 30: 'queen of diamonds',\n",
       " 31: 'queen of hearts',\n",
       " 32: 'queen of spades',\n",
       " 33: 'seven of clubs',\n",
       " 34: 'seven of diamonds',\n",
       " 35: 'seven of hearts',\n",
       " 36: 'seven of spades',\n",
       " 37: 'six of clubs',\n",
       " 38: 'six of diamonds',\n",
       " 39: 'six of hearts',\n",
       " 40: 'six of spades',\n",
       " 41: 'ten of clubs',\n",
       " 42: 'ten of diamonds',\n",
       " 43: 'ten of hearts',\n",
       " 44: 'ten of spades',\n",
       " 45: 'three of clubs',\n",
       " 46: 'three of diamonds',\n",
       " 47: 'three of hearts',\n",
       " 48: 'three of spades',\n",
       " 49: 'two of clubs',\n",
       " 50: 'two of diamonds',\n",
       " 51: 'two of hearts',\n",
       " 52: 'two of spades'}"
      ]
     },
     "execution_count": 30,
     "metadata": {},
     "output_type": "execute_result"
    }
   ],
   "execution_count": 30
  },
  {
   "metadata": {
    "ExecuteTime": {
     "end_time": "2024-06-03T16:48:39.977734Z",
     "start_time": "2024-06-03T16:48:39.974903Z"
    }
   },
   "cell_type": "code",
   "source": [
    "train_loader = DataLoader(train_dataset, batch_size=32, shuffle=True)\n",
    "valid_loader = DataLoader(valid_dataset, batch_size=32, shuffle=False)\n",
    "test_loader = DataLoader(test_dataset, batch_size=32, shuffle=False)"
   ],
   "id": "898c47fa229f4615",
   "outputs": [],
   "execution_count": 31
  },
  {
   "metadata": {
    "ExecuteTime": {
     "end_time": "2024-06-03T16:48:40.990261Z",
     "start_time": "2024-06-03T16:48:40.986289Z"
    }
   },
   "cell_type": "code",
   "source": [
    "class CardClassifier(nn.Module):\n",
    "    def __init__(self, num_classes=53):\n",
    "        super(CardClassifier, self).__init__()\n",
    "        self.base_model = timm.create_model('efficientnet_b0', pretrained=True)\n",
    "        self.features = nn.Sequential(*list(self.base_model.children())[:-1])\n",
    "        enet_out_size = 1280\n",
    "        self.classifier = nn.Linear(enet_out_size, num_classes)\n",
    "    \n",
    "    def forward(self, x):\n",
    "        x = self.features(x)\n",
    "        x = self.classifier(x)\n",
    "        return x \n",
    "        "
   ],
   "id": "40c466031a75a120",
   "outputs": [],
   "execution_count": 32
  },
  {
   "metadata": {
    "ExecuteTime": {
     "end_time": "2024-06-03T16:46:27.789717Z",
     "start_time": "2024-06-03T16:46:27.588432Z"
    }
   },
   "cell_type": "code",
   "source": [
    "model = CardClassifier().to(device)\n",
    "criterion = nn.CrossEntropyLoss()\n",
    "optimizer = optim.SGD(model.parameters(), lr=0.001, momentum=0.9)"
   ],
   "id": "e8d1e6535ef1cdcb",
   "outputs": [],
   "execution_count": 28
  },
  {
   "metadata": {
    "ExecuteTime": {
     "end_time": "2024-06-03T16:47:48.417449Z",
     "start_time": "2024-06-03T16:47:47.453853Z"
    }
   },
   "cell_type": "code",
   "source": [
    "num_epochs = 10\n",
    "train_losses, val_losses = [], []\n",
    "\n",
    "for epoch in range(num_epochs):\n",
    "    model.train()\n",
    "    running_loss = 0.0\n",
    "    for images, labels in train_loader:\n",
    "        images, labels = images.to(device), labels.to(device)\n",
    "        optimizer.zero_grad()\n",
    "        output = model(images)\n",
    "        loss = criterion(output, labels)\n",
    "        loss.backward()\n",
    "        optimizer.step()\n",
    "        running_loss += loss.item() * input.size(0)\n",
    "    train_loss = running_loss / len(train_loader)\n",
    "    train_losses.append(train_loss)\n",
    "    \n",
    "   # Validation Loss\n",
    "    model.eval()\n",
    "    running_loss = 0.0\n",
    "    with torch.no_grad():\n",
    "        for images, labels in valid_loader:\n",
    "            outputs = model(images)\n",
    "            loss = criterion(outputs, labels)\n",
    "            running_loss += loss.item() * input.size(0)\n",
    "    val_loss = running_loss / len(valid_loader)\n",
    "    val_losses.append(val_loss)\n",
    "        "
   ],
   "id": "8d557fcab73550fe",
   "outputs": [
    {
     "ename": "AttributeError",
     "evalue": "'function' object has no attribute 'size'",
     "output_type": "error",
     "traceback": [
      "\u001B[1;31m---------------------------------------------------------------------------\u001B[0m",
      "\u001B[1;31mAttributeError\u001B[0m                            Traceback (most recent call last)",
      "Cell \u001B[1;32mIn[29], line 14\u001B[0m\n\u001B[0;32m     12\u001B[0m     loss\u001B[38;5;241m.\u001B[39mbackward()\n\u001B[0;32m     13\u001B[0m     optimizer\u001B[38;5;241m.\u001B[39mstep()\n\u001B[1;32m---> 14\u001B[0m     running_loss \u001B[38;5;241m+\u001B[39m\u001B[38;5;241m=\u001B[39m loss\u001B[38;5;241m.\u001B[39mitem() \u001B[38;5;241m*\u001B[39m \u001B[38;5;28minput\u001B[39m\u001B[38;5;241m.\u001B[39msize(\u001B[38;5;241m0\u001B[39m)\n\u001B[0;32m     15\u001B[0m train_loss \u001B[38;5;241m=\u001B[39m running_loss \u001B[38;5;241m/\u001B[39m \u001B[38;5;28mlen\u001B[39m(train_loader)\n\u001B[0;32m     16\u001B[0m train_losses\u001B[38;5;241m.\u001B[39mappend(train_loss)\n",
      "\u001B[1;31mAttributeError\u001B[0m: 'function' object has no attribute 'size'"
     ]
    }
   ],
   "execution_count": 29
  },
  {
   "metadata": {},
   "cell_type": "code",
   "outputs": [],
   "execution_count": null,
   "source": "",
   "id": "218c3eed981202d7"
  }
 ],
 "metadata": {
  "kernelspec": {
   "display_name": "Python 3",
   "language": "python",
   "name": "python3"
  },
  "language_info": {
   "codemirror_mode": {
    "name": "ipython",
    "version": 2
   },
   "file_extension": ".py",
   "mimetype": "text/x-python",
   "name": "python",
   "nbconvert_exporter": "python",
   "pygments_lexer": "ipython2",
   "version": "2.7.6"
  }
 },
 "nbformat": 4,
 "nbformat_minor": 5
}
