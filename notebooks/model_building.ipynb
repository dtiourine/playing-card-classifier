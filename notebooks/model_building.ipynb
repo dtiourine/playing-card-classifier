{
 "cells": [
  {
   "metadata": {},
   "cell_type": "markdown",
   "source": "Data was taken from [Kaggle](https://www.kaggle.com/datasets/gpiosenka/cards-image-datasetclassification)",
   "id": "8cf576098a3823b6"
  },
  {
   "cell_type": "code",
   "id": "initial_id",
   "metadata": {
    "collapsed": true,
    "ExecuteTime": {
     "end_time": "2024-06-04T18:12:56.694754Z",
     "start_time": "2024-06-04T18:12:53.929217Z"
    }
   },
   "source": [
    "import torch\n",
    "import torch.nn as nn\n",
    "import torch.optim as optim\n",
    "import torchvision.transforms as transforms\n",
    "import matplotlib.pyplot as plt\n",
    "\n",
    "from backend.util.dataloader import get_data_loaders\n",
    "from backend.model.train import train_and_validate\n",
    "from backend.model.model import CardClassifier\n",
    "\n",
    "device = \"cuda\" if torch.cuda.is_available() else \"cpu\"\n",
    "print(\"Using device: {}\".format(device))"
   ],
   "execution_count": 1,
   "outputs": []
  },
  {
   "metadata": {
    "ExecuteTime": {
     "end_time": "2024-06-04T18:13:07.687892Z",
     "start_time": "2024-06-04T18:13:07.638432Z"
    }
   },
   "cell_type": "code",
   "source": [
    "# Load data\n",
    "train_dir = '../data/train'\n",
    "valid_dir = '../data/valid'\n",
    "test_dir = '../data/test'\n",
    "batch_size = 32\n",
    "transform = transforms.Compose([\n",
    "    transforms.Resize((128, 128)),\n",
    "    transforms.ToTensor(),\n",
    "])\n",
    "\n",
    "train_loader, valid_loader, test_loader, target_to_class = get_data_loaders(\n",
    "    train_dir, valid_dir, test_dir, batch_size, transform\n",
    ")"
   ],
   "id": "8115b5281a3b9ba4",
   "execution_count": 3,
   "outputs": []
  },
  {
   "metadata": {
    "ExecuteTime": {
     "end_time": "2024-06-04T18:16:00.814594Z",
     "start_time": "2024-06-04T18:16:00.810949Z"
    }
   },
   "cell_type": "code",
   "source": [
    "# Save target_to_class to JSON to access it later when outputting predictions\n",
    "\n",
    "\"\"\"\n",
    "import json\n",
    "with open('target_to_class.json', 'w') as file:\n",
    "    json.dump(target_to_class, file, indent=4)\n",
    " \n",
    "\"\"\" "
   ],
   "id": "f73ed180801fe1f",
   "execution_count": 8,
   "outputs": []
  },
  {
   "metadata": {
    "ExecuteTime": {
     "end_time": "2024-06-03T22:29:38.709146Z",
     "start_time": "2024-06-03T22:22:33.793088Z"
    }
   },
   "cell_type": "code",
   "source": [
    "num_epochs = 25\n",
    "momentum = 0.9\n",
    "lr = 0.001\n",
    "\n",
    "model = CardClassifier().to(device)\n",
    "criterion = nn.CrossEntropyLoss()\n",
    "optimizer = optim.SGD(model.parameters(), lr=lr, momentum=momentum )\n",
    "\n",
    "results = train_and_validate(model, criterion, optimizer, train_loader, valid_loader, device, num_epochs=num_epochs)"
   ],
   "id": "e8d1e6535ef1cdcb",
   "execution_count": 69,
   "outputs": []
  },
  {
   "metadata": {
    "ExecuteTime": {
     "end_time": "2024-06-03T22:29:46.402061Z",
     "start_time": "2024-06-03T22:29:46.046766Z"
    }
   },
   "cell_type": "code",
   "source": [
    "train_losses, val_losses, train_accuracies, val_accuracies = results\n",
    "epochs = list(range(1, len(train_losses) + 1))\n",
    "\n",
    "fig, ax = plt.subplots(2, 2, figsize=(12, 10))\n",
    "\n",
    "# Plot training loss\n",
    "ax[0, 0].plot(epochs, train_losses, 'go-', label='Training Loss')\n",
    "ax[0, 0].set_title('Training Loss')\n",
    "ax[0, 0].set_xlabel('Epoch')\n",
    "ax[0, 0].set_ylabel('Loss')\n",
    "ax[0, 0].grid(True)\n",
    "\n",
    "# Plot validation loss\n",
    "ax[0, 1].plot(epochs, val_losses, 'ro-', label='Validation Loss')\n",
    "ax[0, 1].set_title('Validation Loss')\n",
    "ax[0, 1].set_xlabel('Epoch')\n",
    "ax[0, 1].set_ylabel('Loss')\n",
    "ax[0, 1].grid(True)\n",
    "\n",
    "# Plot training accuracy\n",
    "ax[1, 0].plot(epochs, train_accuracies, 'bo-', label='Training Accuracy')\n",
    "ax[1, 0].set_title('Training Accuracy')\n",
    "ax[1, 0].set_xlabel('Epoch')\n",
    "ax[1, 0].set_ylabel('Accuracy')\n",
    "ax[1, 0].grid(True)\n",
    "\n",
    "# Plot validation accuracy\n",
    "ax[1, 1].plot(epochs, val_accuracies, 'mo-', label='Validation Accuracy')\n",
    "ax[1, 1].set_title('Validation Accuracy')\n",
    "ax[1, 1].set_xlabel('Epoch')\n",
    "ax[1, 1].set_ylabel('Accuracy')\n",
    "ax[1, 1].grid(True)\n",
    "\n",
    "# Show plots\n",
    "plt.tight_layout()  \n",
    "plt.show()"
   ],
   "id": "8d557fcab73550fe",
   "execution_count": 70,
   "outputs": []
  },
  {
   "metadata": {
    "ExecuteTime": {
     "end_time": "2024-06-03T22:29:56.174053Z",
     "start_time": "2024-06-03T22:29:56.129782Z"
    }
   },
   "cell_type": "code",
   "source": "torch.save(model.state_dict(), 'model_card_classifier.pth')",
   "id": "218c3eed981202d7",
   "execution_count": 71,
   "outputs": []
  }
 ],
 "metadata": {
  "kernelspec": {
   "display_name": "Python 3",
   "language": "python",
   "name": "python3"
  },
  "language_info": {
   "codemirror_mode": {
    "name": "ipython",
    "version": 2
   },
   "file_extension": ".py",
   "mimetype": "text/x-python",
   "name": "python",
   "nbconvert_exporter": "python",
   "pygments_lexer": "ipython2",
   "version": "2.7.6"
  }
 },
 "nbformat": 4,
 "nbformat_minor": 5
}
