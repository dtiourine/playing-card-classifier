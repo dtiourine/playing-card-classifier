{
 "cells": [
  {
   "cell_type": "code",
   "id": "initial_id",
   "metadata": {
    "collapsed": true,
    "ExecuteTime": {
     "end_time": "2024-06-03T18:47:02.206536Z",
     "start_time": "2024-06-03T18:47:02.200963Z"
    }
   },
   "source": [
    "\n",
    "import torch\n",
    "import torch.nn as nn\n",
    "import torch.optim as optim\n",
    "from torch.utils.data import Dataset, DataLoader\n",
    "from torchvision.datasets import ImageFolder\n",
    "import timm\n",
    "\n",
    "import matplotlib.pyplot as plt\n",
    "import pandas as pd\n",
    "import numpy as np\n",
    "\n",
    "import torchvision.transforms as transforms\n",
    "from backend.util.dataloader import get_data_loaders\n",
    "from backend.model.train import train_and_validate\n",
    "\n",
    "device = \"cuda\" if torch.cuda.is_available() else \"cpu\"\n",
    "print(\"Using device: {}\".format(device))"
   ],
   "outputs": [
    {
     "name": "stdout",
     "output_type": "stream",
     "text": [
      "Using device: cuda\n"
     ]
    }
   ],
   "execution_count": 64
  },
  {
   "metadata": {
    "ExecuteTime": {
     "end_time": "2024-06-03T18:31:27.755172Z",
     "start_time": "2024-06-03T18:31:27.704441Z"
    }
   },
   "cell_type": "code",
   "source": [
    "# Load data\n",
    "train_dir = './data/train'\n",
    "valid_dir = './data/valid'\n",
    "test_dir = './data/test'\n",
    "batch_size = 32\n",
    "transform = transforms.Compose([\n",
    "    transforms.Resize((128, 128)),\n",
    "    transforms.ToTensor(),\n",
    "])\n",
    "\n",
    "train_loader, valid_loader, test_loader, target_to_class = get_data_loaders(\n",
    "    train_dir, valid_dir, test_dir, batch_size, transform\n",
    ")"
   ],
   "id": "8115b5281a3b9ba4",
   "outputs": [],
   "execution_count": 58
  },
  {
   "metadata": {
    "ExecuteTime": {
     "end_time": "2024-06-03T18:31:27.758559Z",
     "start_time": "2024-06-03T18:31:27.755172Z"
    }
   },
   "cell_type": "code",
   "source": [
    "class CardClassifier(nn.Module):\n",
    "    def __init__(self, num_classes=53):\n",
    "        super(CardClassifier, self).__init__()\n",
    "        self.base_model = timm.create_model('efficientnet_b0', pretrained=True)\n",
    "        self.features = nn.Sequential(*list(self.base_model.children())[:-1])\n",
    "        enet_out_size = 1280\n",
    "        self.classifier = nn.Linear(enet_out_size, num_classes)\n",
    "    \n",
    "    def forward(self, x):\n",
    "        x = self.features(x)\n",
    "        x = self.classifier(x)\n",
    "        return x \n",
    "        "
   ],
   "id": "40c466031a75a120",
   "outputs": [],
   "execution_count": 59
  },
  {
   "metadata": {
    "ExecuteTime": {
     "end_time": "2024-06-03T18:46:15.011195Z",
     "start_time": "2024-06-03T18:46:14.674024Z"
    }
   },
   "cell_type": "code",
   "source": [
    "model = CardClassifier().to(device)\n",
    "criterion = nn.CrossEntropyLoss()\n",
    "optimizer = optim.SGD(model.parameters(), lr=0.001, momentum=0.9)"
   ],
   "id": "e8d1e6535ef1cdcb",
   "outputs": [],
   "execution_count": 63
  },
  {
   "metadata": {
    "ExecuteTime": {
     "end_time": "2024-06-03T18:47:29.531892Z",
     "start_time": "2024-06-03T18:47:05.490856Z"
    }
   },
   "cell_type": "code",
   "source": "results = train_and_validate(model, criterion, optimizer, train_loader, valid_loader, device, num_epochs=30)",
   "id": "d71bda0b329b591b",
   "outputs": [
    {
     "name": "stdout",
     "output_type": "stream",
     "text": [
      "Epoch 1/30\n",
      "Training Loss: 3.6291, Training Accuracy: 12.15%\n",
      "Validation Loss: 3.1160, Validation Accuracy: 23.77%\n"
     ]
    },
    {
     "ename": "KeyboardInterrupt",
     "evalue": "",
     "output_type": "error",
     "traceback": [
      "\u001B[1;31m---------------------------------------------------------------------------\u001B[0m",
      "\u001B[1;31mKeyboardInterrupt\u001B[0m                         Traceback (most recent call last)",
      "Cell \u001B[1;32mIn[65], line 1\u001B[0m\n\u001B[1;32m----> 1\u001B[0m results \u001B[38;5;241m=\u001B[39m train_and_validate(model, criterion, optimizer, train_loader, valid_loader, device, num_epochs\u001B[38;5;241m=\u001B[39m\u001B[38;5;241m30\u001B[39m)\n",
      "File \u001B[1;32mC:\\Git\\cards-classification\\src\\model\\train.py:33\u001B[0m, in \u001B[0;36mtrain_and_validate\u001B[1;34m(model, criterion, optimizer, train_loader, valid_loader, device, num_epochs)\u001B[0m\n\u001B[0;32m     31\u001B[0m outputs \u001B[38;5;241m=\u001B[39m model(images)\n\u001B[0;32m     32\u001B[0m loss \u001B[38;5;241m=\u001B[39m criterion(outputs, labels)\n\u001B[1;32m---> 33\u001B[0m loss\u001B[38;5;241m.\u001B[39mbackward()\n\u001B[0;32m     34\u001B[0m optimizer\u001B[38;5;241m.\u001B[39mstep()\n\u001B[0;32m     35\u001B[0m running_loss \u001B[38;5;241m+\u001B[39m\u001B[38;5;241m=\u001B[39m loss\u001B[38;5;241m.\u001B[39mitem() \u001B[38;5;241m*\u001B[39m images\u001B[38;5;241m.\u001B[39msize(\u001B[38;5;241m0\u001B[39m)\n",
      "File \u001B[1;32m~\\anaconda3\\Lib\\site-packages\\torch\\_tensor.py:522\u001B[0m, in \u001B[0;36mTensor.backward\u001B[1;34m(self, gradient, retain_graph, create_graph, inputs)\u001B[0m\n\u001B[0;32m    512\u001B[0m \u001B[38;5;28;01mif\u001B[39;00m has_torch_function_unary(\u001B[38;5;28mself\u001B[39m):\n\u001B[0;32m    513\u001B[0m     \u001B[38;5;28;01mreturn\u001B[39;00m handle_torch_function(\n\u001B[0;32m    514\u001B[0m         Tensor\u001B[38;5;241m.\u001B[39mbackward,\n\u001B[0;32m    515\u001B[0m         (\u001B[38;5;28mself\u001B[39m,),\n\u001B[1;32m   (...)\u001B[0m\n\u001B[0;32m    520\u001B[0m         inputs\u001B[38;5;241m=\u001B[39minputs,\n\u001B[0;32m    521\u001B[0m     )\n\u001B[1;32m--> 522\u001B[0m torch\u001B[38;5;241m.\u001B[39mautograd\u001B[38;5;241m.\u001B[39mbackward(\n\u001B[0;32m    523\u001B[0m     \u001B[38;5;28mself\u001B[39m, gradient, retain_graph, create_graph, inputs\u001B[38;5;241m=\u001B[39minputs\n\u001B[0;32m    524\u001B[0m )\n",
      "File \u001B[1;32m~\\anaconda3\\Lib\\site-packages\\torch\\autograd\\__init__.py:266\u001B[0m, in \u001B[0;36mbackward\u001B[1;34m(tensors, grad_tensors, retain_graph, create_graph, grad_variables, inputs)\u001B[0m\n\u001B[0;32m    261\u001B[0m     retain_graph \u001B[38;5;241m=\u001B[39m create_graph\n\u001B[0;32m    263\u001B[0m \u001B[38;5;66;03m# The reason we repeat the same comment below is that\u001B[39;00m\n\u001B[0;32m    264\u001B[0m \u001B[38;5;66;03m# some Python versions print out the first line of a multi-line function\u001B[39;00m\n\u001B[0;32m    265\u001B[0m \u001B[38;5;66;03m# calls in the traceback and some print out the last line\u001B[39;00m\n\u001B[1;32m--> 266\u001B[0m Variable\u001B[38;5;241m.\u001B[39m_execution_engine\u001B[38;5;241m.\u001B[39mrun_backward(  \u001B[38;5;66;03m# Calls into the C++ engine to run the backward pass\u001B[39;00m\n\u001B[0;32m    267\u001B[0m     tensors,\n\u001B[0;32m    268\u001B[0m     grad_tensors_,\n\u001B[0;32m    269\u001B[0m     retain_graph,\n\u001B[0;32m    270\u001B[0m     create_graph,\n\u001B[0;32m    271\u001B[0m     inputs,\n\u001B[0;32m    272\u001B[0m     allow_unreachable\u001B[38;5;241m=\u001B[39m\u001B[38;5;28;01mTrue\u001B[39;00m,\n\u001B[0;32m    273\u001B[0m     accumulate_grad\u001B[38;5;241m=\u001B[39m\u001B[38;5;28;01mTrue\u001B[39;00m,\n\u001B[0;32m    274\u001B[0m )\n",
      "\u001B[1;31mKeyboardInterrupt\u001B[0m: "
     ]
    }
   ],
   "execution_count": 65
  },
  {
   "metadata": {
    "ExecuteTime": {
     "end_time": "2024-06-03T18:38:28.827920Z",
     "start_time": "2024-06-03T18:31:28.141751Z"
    }
   },
   "cell_type": "code",
   "source": [
    "import torch\n",
    "\n",
    "num_epochs = 30\n",
    "train_losses, val_losses = [], []\n",
    "train_accuracies, val_accuracies = [], []\n",
    "\n",
    "for epoch in range(num_epochs):\n",
    "    model.train()\n",
    "    running_loss = 0.0\n",
    "    correct = 0\n",
    "    total = 0\n",
    "    for images, labels in train_loader:\n",
    "        images, labels = images.to(device), labels.to(device)\n",
    "        optimizer.zero_grad()\n",
    "        outputs = model(images)\n",
    "        loss = criterion(outputs, labels)\n",
    "        loss.backward()\n",
    "        optimizer.step()\n",
    "        running_loss += loss.item() * images.size(0)\n",
    "        _, predicted = torch.max(outputs.data, 1)\n",
    "        total += labels.size(0)\n",
    "        correct += (predicted == labels).sum().item()\n",
    "    train_loss = running_loss / len(train_loader.dataset)\n",
    "    train_accuracy = 100 * correct / total\n",
    "    train_losses.append(train_loss)\n",
    "    train_accuracies.append(train_accuracy)\n",
    "    \n",
    "    # Validation phase\n",
    "    model.eval()\n",
    "    running_loss = 0.0\n",
    "    correct = 0\n",
    "    total = 0\n",
    "    with torch.no_grad():\n",
    "        for images, labels in valid_loader:\n",
    "            images, labels = images.to(device), labels.to(device)\n",
    "            outputs = model(images)\n",
    "            loss = criterion(outputs, labels)\n",
    "            running_loss += loss.item() * images.size(0)\n",
    "            _, predicted = torch.max(outputs.data, 1)\n",
    "            total += labels.size(0)\n",
    "            correct += (predicted == labels).sum().item()\n",
    "    val_loss = running_loss / len(valid_loader.dataset)\n",
    "    val_accuracy = 100 * correct / total\n",
    "    val_losses.append(val_loss)\n",
    "    val_accuracies.append(val_accuracy)\n",
    "\n",
    "    print(f'Epoch {epoch+1}/{num_epochs}')\n",
    "    print(f'Training Loss: {train_loss:.4f}, Training Accuracy: {train_accuracy:.2f}%')\n",
    "    print(f'Validation Loss: {val_loss:.4f}, Validation Accuracy: {val_accuracy:.2f}%')"
   ],
   "id": "8d557fcab73550fe",
   "outputs": [
    {
     "name": "stdout",
     "output_type": "stream",
     "text": [
      "Epoch 1/30\n",
      "Training Loss: 3.6171, Training Accuracy: 12.99%\n",
      "Validation Loss: 3.0752, Validation Accuracy: 23.77%\n",
      "Epoch 2/30\n",
      "Training Loss: 2.6111, Training Accuracy: 36.75%\n",
      "Validation Loss: 1.9848, Validation Accuracy: 51.32%\n",
      "Epoch 3/30\n",
      "Training Loss: 1.9082, Training Accuracy: 53.20%\n",
      "Validation Loss: 1.3863, Validation Accuracy: 64.53%\n",
      "Epoch 4/30\n",
      "Training Loss: 1.4746, Training Accuracy: 62.87%\n",
      "Validation Loss: 1.0187, Validation Accuracy: 73.96%\n",
      "Epoch 5/30\n",
      "Training Loss: 1.1815, Training Accuracy: 69.75%\n",
      "Validation Loss: 0.8073, Validation Accuracy: 77.74%\n",
      "Epoch 6/30\n",
      "Training Loss: 0.9439, Training Accuracy: 75.45%\n",
      "Validation Loss: 0.6486, Validation Accuracy: 80.38%\n",
      "Epoch 7/30\n",
      "Training Loss: 0.7594, Training Accuracy: 80.29%\n",
      "Validation Loss: 0.5152, Validation Accuracy: 85.66%\n",
      "Epoch 8/30\n",
      "Training Loss: 0.6302, Training Accuracy: 83.66%\n",
      "Validation Loss: 0.4706, Validation Accuracy: 84.15%\n",
      "Epoch 9/30\n",
      "Training Loss: 0.5196, Training Accuracy: 86.44%\n",
      "Validation Loss: 0.4122, Validation Accuracy: 86.79%\n",
      "Epoch 10/30\n",
      "Training Loss: 0.4266, Training Accuracy: 88.90%\n",
      "Validation Loss: 0.3825, Validation Accuracy: 87.92%\n",
      "Epoch 11/30\n",
      "Training Loss: 0.3524, Training Accuracy: 91.32%\n",
      "Validation Loss: 0.3114, Validation Accuracy: 90.19%\n",
      "Epoch 12/30\n",
      "Training Loss: 0.2928, Training Accuracy: 93.18%\n",
      "Validation Loss: 0.3056, Validation Accuracy: 89.43%\n",
      "Epoch 13/30\n",
      "Training Loss: 0.2323, Training Accuracy: 95.03%\n",
      "Validation Loss: 0.2982, Validation Accuracy: 90.94%\n",
      "Epoch 14/30\n",
      "Training Loss: 0.2006, Training Accuracy: 96.00%\n",
      "Validation Loss: 0.2366, Validation Accuracy: 93.96%\n",
      "Epoch 15/30\n",
      "Training Loss: 0.1679, Training Accuracy: 96.90%\n",
      "Validation Loss: 0.2461, Validation Accuracy: 92.08%\n",
      "Epoch 16/30\n",
      "Training Loss: 0.1404, Training Accuracy: 97.43%\n",
      "Validation Loss: 0.2255, Validation Accuracy: 92.83%\n",
      "Epoch 17/30\n",
      "Training Loss: 0.1235, Training Accuracy: 97.73%\n",
      "Validation Loss: 0.2332, Validation Accuracy: 93.21%\n",
      "Epoch 18/30\n",
      "Training Loss: 0.1089, Training Accuracy: 98.24%\n",
      "Validation Loss: 0.1799, Validation Accuracy: 94.72%\n",
      "Epoch 19/30\n",
      "Training Loss: 0.1030, Training Accuracy: 98.19%\n",
      "Validation Loss: 0.2189, Validation Accuracy: 92.83%\n",
      "Epoch 20/30\n",
      "Training Loss: 0.0827, Training Accuracy: 98.89%\n",
      "Validation Loss: 0.1961, Validation Accuracy: 93.96%\n",
      "Epoch 21/30\n",
      "Training Loss: 0.0711, Training Accuracy: 99.06%\n",
      "Validation Loss: 0.1954, Validation Accuracy: 93.21%\n",
      "Epoch 22/30\n",
      "Training Loss: 0.0661, Training Accuracy: 99.11%\n",
      "Validation Loss: 0.1862, Validation Accuracy: 92.83%\n",
      "Epoch 23/30\n",
      "Training Loss: 0.0597, Training Accuracy: 99.08%\n",
      "Validation Loss: 0.1742, Validation Accuracy: 94.34%\n",
      "Epoch 24/30\n",
      "Training Loss: 0.0569, Training Accuracy: 99.13%\n",
      "Validation Loss: 0.1803, Validation Accuracy: 93.58%\n",
      "Epoch 25/30\n",
      "Training Loss: 0.0477, Training Accuracy: 99.40%\n",
      "Validation Loss: 0.1715, Validation Accuracy: 95.09%\n",
      "Epoch 26/30\n",
      "Training Loss: 0.0465, Training Accuracy: 99.41%\n",
      "Validation Loss: 0.1752, Validation Accuracy: 94.34%\n",
      "Epoch 27/30\n",
      "Training Loss: 0.0410, Training Accuracy: 99.53%\n",
      "Validation Loss: 0.1532, Validation Accuracy: 94.72%\n",
      "Epoch 28/30\n",
      "Training Loss: 0.0383, Training Accuracy: 99.54%\n",
      "Validation Loss: 0.1732, Validation Accuracy: 93.96%\n",
      "Epoch 29/30\n",
      "Training Loss: 0.0369, Training Accuracy: 99.53%\n",
      "Validation Loss: 0.1472, Validation Accuracy: 94.72%\n",
      "Epoch 30/30\n",
      "Training Loss: 0.0313, Training Accuracy: 99.62%\n",
      "Validation Loss: 0.1541, Validation Accuracy: 95.47%\n"
     ]
    }
   ],
   "execution_count": 61
  },
  {
   "metadata": {
    "ExecuteTime": {
     "end_time": "2024-06-03T18:38:28.880969Z",
     "start_time": "2024-06-03T18:38:28.828923Z"
    }
   },
   "cell_type": "code",
   "source": "torch.save(model.state_dict(), 'model_card_classifier.pth')",
   "id": "218c3eed981202d7",
   "outputs": [],
   "execution_count": 62
  }
 ],
 "metadata": {
  "kernelspec": {
   "display_name": "Python 3",
   "language": "python",
   "name": "python3"
  },
  "language_info": {
   "codemirror_mode": {
    "name": "ipython",
    "version": 2
   },
   "file_extension": ".py",
   "mimetype": "text/x-python",
   "name": "python",
   "nbconvert_exporter": "python",
   "pygments_lexer": "ipython2",
   "version": "2.7.6"
  }
 },
 "nbformat": 4,
 "nbformat_minor": 5
}
