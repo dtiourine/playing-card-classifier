{
 "cells": [
  {
   "metadata": {},
   "cell_type": "markdown",
   "source": [
    "# Model Evaluation\n",
    "\n",
    "Now that we have trained the model, let's evaluate it against the test data."
   ],
   "id": "f00d89a7d7c77902"
  },
  {
   "metadata": {
    "ExecuteTime": {
     "end_time": "2024-06-04T18:00:12.642372Z",
     "start_time": "2024-06-04T18:00:10.206871Z"
    }
   },
   "cell_type": "code",
   "source": [
    "import torch\n",
    "import torchvision.transforms as transforms\n",
    "import torch.nn as nn\n",
    "\n",
    "from src.backend.util.dataloader import get_data_loaders\n",
    "from src.backend.model.model import CardClassifier\n",
    "\n",
    "device = \"cuda\" if torch.cuda.is_available() else \"cpu\""
   ],
   "id": "1b45fbd0006d772c",
   "execution_count": 1,
   "outputs": []
  },
  {
   "metadata": {
    "ExecuteTime": {
     "end_time": "2024-06-04T18:01:47.520102Z",
     "start_time": "2024-06-04T18:01:47.318226Z"
    }
   },
   "cell_type": "code",
   "source": [
    "# Load data\n",
    "train_dir = '../data/train'\n",
    "valid_dir = '../data/valid'\n",
    "test_dir = '../data/test'\n",
    "batch_size = 32\n",
    "transform = transforms.Compose([\n",
    "    transforms.Resize((128, 128)),\n",
    "    transforms.ToTensor(),\n",
    "])\n",
    "\n",
    "train_loader, valid_loader, test_loader, target_to_class = get_data_loaders(\n",
    "    train_dir, valid_dir, test_dir, batch_size, transform\n",
    ")\n",
    "\n",
    "# Load model and criterion\n",
    "model = CardClassifier()\n",
    "model.load_state_dict(torch.load('../backend/model/saved_model/model_card_classifier.pth', map_location=device))\n",
    "criterion = nn.CrossEntropyLoss()"
   ],
   "id": "17a2aeed7aed4b2d",
   "execution_count": 8,
   "outputs": []
  },
  {
   "metadata": {
    "ExecuteTime": {
     "end_time": "2024-06-04T18:01:50.963253Z",
     "start_time": "2024-06-04T18:01:49.579954Z"
    }
   },
   "cell_type": "code",
   "source": [
    "test_loss = 0\n",
    "correct = 0\n",
    "total = 0\n",
    "\n",
    "model.eval()\n",
    "with torch.no_grad():  # Disable gradient computation\n",
    "    for data, targets in test_loader:\n",
    "        data, targets = data.to(device), targets.to(device)  # Move data to the appropriate device\n",
    "        outputs = model(data)  # Forward pass\n",
    "        loss = criterion(outputs, targets)  # Compute the loss\n",
    "\n",
    "        test_loss += loss.item()  # Sum up batch loss\n",
    "        _, predicted = torch.max(outputs.data, 1)  # Get the index of the max log-probability as the prediction\n",
    "        total += targets.size(0)  # Total number of labels\n",
    "        correct += (predicted == targets).sum().item()  # Correct predictions\n",
    "\n",
    "# Calculate average losses and total accuracy\n",
    "test_loss /= len(test_loader.dataset)\n",
    "accuracy = 100. * correct / total\n",
    "\n",
    "print(f'Test set: Average loss: {test_loss:.4f}, Accuracy: {correct}/{total} ({accuracy:.2f}%)')"
   ],
   "id": "2e4ff66b069670e0",
   "execution_count": 9,
   "outputs": []
  }
 ],
 "metadata": {
  "kernelspec": {
   "display_name": "Python 3",
   "language": "python",
   "name": "python3"
  },
  "language_info": {
   "codemirror_mode": {
    "name": "ipython",
    "version": 2
   },
   "file_extension": ".py",
   "mimetype": "text/x-python",
   "name": "python",
   "nbconvert_exporter": "python",
   "pygments_lexer": "ipython2",
   "version": "2.7.6"
  }
 },
 "nbformat": 4,
 "nbformat_minor": 5
}
